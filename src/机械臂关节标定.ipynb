{
 "cells": [
  {
   "cell_type": "markdown",
   "metadata": {},
   "source": [
    "# 机械臂标定"
   ]
  },
  {
   "cell_type": "markdown",
   "metadata": {},
   "source": [
    "## 导入依赖"
   ]
  },
  {
   "cell_type": "code",
   "execution_count": 16,
   "metadata": {},
   "outputs": [],
   "source": [
    "import math\n",
    "from fs_arm_4dof import Arm4DoF\n",
    "from config import *"
   ]
  },
  {
   "cell_type": "markdown",
   "metadata": {},
   "source": [
    "## 机械臂初始化"
   ]
  },
  {
   "cell_type": "code",
   "execution_count": 2,
   "metadata": {},
   "outputs": [
    {
     "name": "stderr",
     "output_type": "stream",
     "text": [
      "INFO:root:串口发送请求数据 code:1\n",
      "INFO:root:数据帧内容:\n",
      "INFO:root:0x12 0x4c 0x01 0x01 0x00 0x60 \n",
      "INFO:root:PING 舵机 id=0\n",
      "INFO:root:Recv Bytes: \n",
      "INFO:root:0x05 0x1c 0x01 0x01 0x00 0x23\n",
      "INFO:root:[fs_uservo]ECHO 已知舵机 id=0\n",
      "INFO:root:[fs_uservo]串口舵机ID=0 响应ping\n",
      "INFO:root:串口发送请求数据 code:1\n",
      "INFO:root:数据帧内容:\n",
      "INFO:root:0x12 0x4c 0x01 0x01 0x01 0x61 \n",
      "INFO:root:PING 舵机 id=1\n",
      "INFO:root:Recv Bytes: \n",
      "INFO:root:0x05 0x1c 0x01 0x01 0x01 0x24\n",
      "INFO:root:[fs_uservo]ECHO 已知舵机 id=1\n",
      "INFO:root:[fs_uservo]串口舵机ID=1 响应ping\n",
      "INFO:root:串口发送请求数据 code:1\n",
      "INFO:root:数据帧内容:\n",
      "INFO:root:0x12 0x4c 0x01 0x01 0x02 0x62 \n",
      "INFO:root:PING 舵机 id=2\n",
      "INFO:root:Recv Bytes: \n",
      "INFO:root:0x05 0x1c 0x01 0x01 0x02 0x25\n",
      "INFO:root:[fs_uservo]ECHO 已知舵机 id=2\n",
      "INFO:root:[fs_uservo]串口舵机ID=2 响应ping\n",
      "INFO:root:串口发送请求数据 code:1\n",
      "INFO:root:数据帧内容:\n",
      "INFO:root:0x12 0x4c 0x01 0x01 0x03 0x63 \n",
      "INFO:root:PING 舵机 id=3\n",
      "INFO:root:Recv Bytes: \n",
      "INFO:root:0x05 0x1c 0x01 0x01 0x03 0x26\n",
      "INFO:root:[fs_uservo]ECHO 已知舵机 id=3\n",
      "INFO:root:[fs_uservo]串口舵机ID=3 响应ping\n"
     ]
    }
   ],
   "source": [
    "arm = Arm4DoF('/dev/ttyUSB0')"
   ]
  },
  {
   "cell_type": "markdown",
   "metadata": {},
   "source": [
    "## 调整关节1的弧度\n",
    "\n",
    "![](./image/关节1的弧度.png)"
   ]
  },
  {
   "cell_type": "markdown",
   "metadata": {},
   "source": [
    "调整0号舵机, 让关节1旋转到弧度 $\\theta_1 = \\frac{\\pi}{2}$"
   ]
  },
  {
   "cell_type": "code",
   "execution_count": 10,
   "metadata": {},
   "outputs": [
    {
     "name": "stderr",
     "output_type": "stream",
     "text": [
      "INFO:root:设置舵机角度, 舵机#0 目标角度 -98.5\n",
      "INFO:root:串口发送请求数据 code:8\n",
      "INFO:root:数据帧内容:\n",
      "INFO:root:0x12 0x4c 0x08 0x07 0x00 0x27 0xfc 0x20 0x03 0x00 0x00 0xb3 \n"
     ]
    }
   ],
   "source": [
    "j1_p90_srv_angle =  -98.5 # 当关节1等于90度的时候的舵机原始角度\n",
    "arm.set_servo_angle({JOINT1:j1_p90_srv_angle}, wait=True)"
   ]
  },
  {
   "cell_type": "markdown",
   "metadata": {},
   "source": [
    "调整0号舵机, 让关节1旋转到弧度 $\\theta_1 = -\\frac{\\pi}{2}$"
   ]
  },
  {
   "cell_type": "code",
   "execution_count": 9,
   "metadata": {},
   "outputs": [
    {
     "name": "stderr",
     "output_type": "stream",
     "text": [
      "INFO:root:设置舵机角度, 舵机#0 目标角度 80.0\n",
      "INFO:root:串口发送请求数据 code:8\n",
      "INFO:root:数据帧内容:\n",
      "INFO:root:0x12 0x4c 0x08 0x07 0x00 0x20 0x03 0x20 0x03 0x00 0x00 0xb3 \n"
     ]
    }
   ],
   "source": [
    "j1_n90_srv_angle =  80 # 当关节1等于-90度的时候的舵机原始角度\n",
    "arm.set_servo_angle({JOINT1:j1_n90_srv_angle}, wait=True)"
   ]
  },
  {
   "cell_type": "markdown",
   "metadata": {},
   "source": [
    "调整0号舵机, 让关节1旋转到弧度$\\theta_1 = 0$"
   ]
  },
  {
   "cell_type": "code",
   "execution_count": 11,
   "metadata": {},
   "outputs": [
    {
     "name": "stderr",
     "output_type": "stream",
     "text": [
      "INFO:root:设置舵机角度, 舵机#0 目标角度 -10.0\n",
      "INFO:root:串口发送请求数据 code:8\n",
      "INFO:root:数据帧内容:\n",
      "INFO:root:0x12 0x4c 0x08 0x07 0x00 0x9c 0xff 0x75 0x03 0x00 0x00 0x80 \n"
     ]
    }
   ],
   "source": [
    "arm.set_servo_angle({JOINT1:-10}, wait=True)"
   ]
  },
  {
   "cell_type": "markdown",
   "metadata": {},
   "source": [
    "## 调整关节2"
   ]
  },
  {
   "cell_type": "markdown",
   "metadata": {},
   "source": [
    "![](./image/关节2的弧度.png)"
   ]
  },
  {
   "cell_type": "markdown",
   "metadata": {},
   "source": [
    "调整1号舵机, 让关节2旋转到弧度 $\\theta_2=0$"
   ]
  },
  {
   "cell_type": "code",
   "execution_count": 12,
   "metadata": {},
   "outputs": [
    {
     "name": "stderr",
     "output_type": "stream",
     "text": [
      "INFO:root:设置舵机角度, 舵机#1 目标角度 93.0\n",
      "INFO:root:串口发送请求数据 code:8\n",
      "INFO:root:数据帧内容:\n",
      "INFO:root:0x12 0x4c 0x08 0x07 0x01 0xa2 0x03 0x20 0x03 0x00 0x00 0x36 \n"
     ]
    }
   ],
   "source": [
    "j2_p0_srv_angle = 93 # 当关节2等于0度的时候的舵机原始角度\n",
    "arm.set_servo_angle({JOINT2:j2_p0_srv_angle}, wait=True)"
   ]
  },
  {
   "cell_type": "markdown",
   "metadata": {},
   "source": [
    "调整1号舵机, 让关节2旋转到弧度 $\\theta_2=-\\pi$"
   ]
  },
  {
   "cell_type": "code",
   "execution_count": 13,
   "metadata": {},
   "outputs": [
    {
     "name": "stderr",
     "output_type": "stream",
     "text": [
      "INFO:root:设置舵机角度, 舵机#1 目标角度 -85.0\n",
      "INFO:root:串口发送请求数据 code:8\n",
      "INFO:root:数据帧内容:\n",
      "INFO:root:0x12 0x4c 0x08 0x07 0x01 0xae 0xfc 0x20 0x03 0x00 0x00 0x3b \n"
     ]
    }
   ],
   "source": [
    "j2_n180_srv_angle = -85 # 当关节2等于-180度的时候的舵机原始角度\n",
    "arm.set_servo_angle({JOINT2:j2_n180_srv_angle}, wait=True)"
   ]
  },
  {
   "cell_type": "markdown",
   "metadata": {},
   "source": [
    "调整1号舵机, 让关节2旋转到弧度$\\theta_2=-\\frac{\\pi}{2}$"
   ]
  },
  {
   "cell_type": "code",
   "execution_count": 14,
   "metadata": {},
   "outputs": [
    {
     "name": "stderr",
     "output_type": "stream",
     "text": [
      "INFO:root:设置舵机角度, 舵机#1 目标角度 5.0\n",
      "INFO:root:串口发送请求数据 code:8\n",
      "INFO:root:数据帧内容:\n",
      "INFO:root:0x12 0x4c 0x08 0x07 0x01 0x32 0x00 0x84 0x03 0x00 0x00 0x27 \n"
     ]
    }
   ],
   "source": [
    "arm.set_servo_angle({JOINT2:5}, wait=True)"
   ]
  },
  {
   "cell_type": "markdown",
   "metadata": {},
   "source": [
    "## 调整关节3"
   ]
  },
  {
   "cell_type": "markdown",
   "metadata": {},
   "source": [
    "![](./image/关节3的弧度.png)"
   ]
  },
  {
   "cell_type": "markdown",
   "metadata": {},
   "source": [
    "调整2号舵机, 让关节3旋转到弧度 $\\theta_3=\\frac{\\pi}{2}$"
   ]
  },
  {
   "cell_type": "code",
   "execution_count": 3,
   "metadata": {},
   "outputs": [
    {
     "name": "stderr",
     "output_type": "stream",
     "text": [
      "INFO:root:设置舵机角度, 舵机#2 目标角度 -46.0\n",
      "INFO:root:串口发送请求数据 code:8\n",
      "INFO:root:数据帧内容:\n",
      "INFO:root:0x12 0x4c 0x08 0x07 0x02 0x34 0xfe 0x20 0x03 0x00 0x00 0xc4 \n"
     ]
    }
   ],
   "source": [
    "j3_p90_srv_angle=-46 #当关节3等于90度的时候的舵机原始角度\n",
    "arm.set_servo_angle({JOINT3:j3_p90_srv_angle}, wait=True)"
   ]
  },
  {
   "cell_type": "markdown",
   "metadata": {},
   "source": [
    "调整2号舵机, 让关节3旋转到弧度 $\\theta_3=0$"
   ]
  },
  {
   "cell_type": "code",
   "execution_count": 4,
   "metadata": {},
   "outputs": [
    {
     "name": "stderr",
     "output_type": "stream",
     "text": [
      "INFO:root:设置舵机角度, 舵机#2 目标角度 48.0\n",
      "INFO:root:串口发送请求数据 code:8\n",
      "INFO:root:数据帧内容:\n",
      "INFO:root:0x12 0x4c 0x08 0x07 0x02 0xe0 0x01 0x20 0x03 0x00 0x00 0x73 \n"
     ]
    }
   ],
   "source": [
    "j3_p0_srv_angle=48 #当关节3等于90度的时候的舵机原始角度\n",
    "arm.set_servo_angle({JOINT3:j3_p0_srv_angle}, wait=True)"
   ]
  },
  {
   "cell_type": "markdown",
   "metadata": {},
   "source": [
    "## 调整关节4\n",
    "\n",
    "![](./image/关节4的弧度.png)"
   ]
  },
  {
   "cell_type": "markdown",
   "metadata": {},
   "source": [
    "调整3号舵机, 让关节4旋转到弧度 $\\theta_4=\\frac{\\pi}{2}$"
   ]
  },
  {
   "cell_type": "code",
   "execution_count": 7,
   "metadata": {},
   "outputs": [
    {
     "name": "stderr",
     "output_type": "stream",
     "text": [
      "INFO:root:设置舵机角度, 舵机#3 目标角度 -93.0\n",
      "INFO:root:串口发送请求数据 code:8\n",
      "INFO:root:数据帧内容:\n",
      "INFO:root:0x12 0x4c 0x08 0x07 0x03 0x5e 0xfc 0x26 0x07 0x00 0x00 0xf7 \n"
     ]
    }
   ],
   "source": [
    "j4_p90_srv_angle=-93 #当关节4等于90度的时候的舵机原始角度\n",
    "arm.set_servo_angle({JOINT4:j4_p90_srv_angle}, wait=True)"
   ]
  },
  {
   "cell_type": "markdown",
   "metadata": {},
   "source": [
    "调整3号舵机, 让关节4旋转到弧度 $\\theta_4=-\\frac{\\pi}{2}$"
   ]
  },
  {
   "cell_type": "code",
   "execution_count": 6,
   "metadata": {},
   "outputs": [
    {
     "name": "stderr",
     "output_type": "stream",
     "text": [
      "INFO:root:设置舵机角度, 舵机#3 目标角度 90.0\n",
      "INFO:root:串口发送请求数据 code:8\n",
      "INFO:root:数据帧内容:\n",
      "INFO:root:0x12 0x4c 0x08 0x07 0x03 0x84 0x03 0x20 0x03 0x00 0x00 0x1a \n"
     ]
    }
   ],
   "source": [
    "j4_n90_srv_angle=90 #当关节4等于-90度的时候的舵机原始角度\n",
    "arm.set_servo_angle({JOINT4:j4_n90_srv_angle}, wait=True)"
   ]
  },
  {
   "cell_type": "markdown",
   "metadata": {},
   "source": [
    "## 标定舵机"
   ]
  },
  {
   "cell_type": "markdown",
   "metadata": {},
   "source": [
    "计算各个关节的比例系数与角度偏移量. 用一个简单的一次函数来表示舵机原始角度与机械臂关节弧度之间的关系"
   ]
  },
  {
   "cell_type": "markdown",
   "metadata": {},
   "source": [
    "$$\n",
    "angle_i = k_i*\\theta_{i} + b_i\n",
    "$$\n",
    "\n",
    "* $\\theta_i$关节弧度\n",
    "* $angle_i$ 舵机原始角度\n",
    "* $k_i$ 比例系数\n",
    "* $b_i$ 偏移量"
   ]
  },
  {
   "cell_type": "code",
   "execution_count": 23,
   "metadata": {},
   "outputs": [],
   "source": [
    "def calc_kb(angle_a, angle_b, theta_a, theta_b):\n",
    "    k = (angle_a-angle_b) / (theta_a-theta_b)\n",
    "    b = angle_a - k*theta_a\n",
    "    return k, b"
   ]
  },
  {
   "cell_type": "code",
   "execution_count": 24,
   "metadata": {},
   "outputs": [],
   "source": [
    "k1, b1 = calc_kb(j1_n90_srv_angle, j1_p90_srv_angle, -math.pi/2, math.pi/2)\n",
    "k2, b2 = calc_kb(j2_n180_srv_angle, j2_p0_srv_angle, -math.pi, 0)\n",
    "k3, b3 = calc_kb(j3_p0_srv_angle, j3_p90_srv_angle, 0, math.pi/2)\n",
    "k4, b4 = calc_kb(j4_n90_srv_angle, j4_p90_srv_angle, -math.pi/2, math.pi/2)"
   ]
  },
  {
   "cell_type": "code",
   "execution_count": 33,
   "metadata": {},
   "outputs": [
    {
     "name": "stdout",
     "output_type": "stream",
     "text": [
      "JOINT2SERVO_K=[-56.818, 56.659, -59.842, -58.251]\n",
      "JOINT2SERVO_B=[-9.250,93.000,48.000,-1.500]\n"
     ]
    }
   ],
   "source": [
    "print('JOINT2SERVO_K=[{:.3f}, {:.3f}, {:.3f}, {:.3f}]\\nJOINT2SERVO_B=[{:.3f},{:.3f},{:.3f},{:.3f}]'.format(k1, k2, k3, k4, b1, b2, b3, b4))"
   ]
  },
  {
   "cell_type": "markdown",
   "metadata": {},
   "source": [
    "将打印出来的字符串替换掉`config.py`里面的`JOINT2SERVO_K`与`JOINT2SERVO_B`"
   ]
  },
  {
   "cell_type": "markdown",
   "metadata": {},
   "source": [
    "`config.py`\n",
    "```python\n",
    "# 舵机原始角度与关节弧度转换对应的偏移量与比例系数\n",
    "JOINT2SERVO_K=[-56.818, 56.659, -59.842, -58.251]\n",
    "JOINT2SERVO_B=[-9.250,93.000,48.000,-1.500]\n",
    "```"
   ]
  }
 ],
 "metadata": {
  "kernelspec": {
   "display_name": "Python 3",
   "language": "python",
   "name": "python3"
  },
  "language_info": {
   "codemirror_mode": {
    "name": "ipython",
    "version": 3
   },
   "file_extension": ".py",
   "mimetype": "text/x-python",
   "name": "python",
   "nbconvert_exporter": "python",
   "pygments_lexer": "ipython3",
   "version": "3.6.9"
  }
 },
 "nbformat": 4,
 "nbformat_minor": 2
}
