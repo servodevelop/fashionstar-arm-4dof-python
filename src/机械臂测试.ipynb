{
 "cells": [
  {
   "cell_type": "code",
   "execution_count": 1,
   "metadata": {
    "scrolled": true
   },
   "outputs": [],
   "source": [
    "from fs_arm_4dof import Arm4DoF\n",
    "import math\n",
    "import logging\n",
    "import time\n",
    "import numpy as np\n",
    "# logging.basicConfig(level=logging.INFO)\n",
    "arm = Arm4DoF(device=\"COM12\")"
   ]
  },
  {
   "cell_type": "code",
   "execution_count": 24,
   "metadata": {},
   "outputs": [],
   "source": [
    "# 气泵打开\n",
    "arm.pump_on()"
   ]
  },
  {
   "cell_type": "code",
   "execution_count": 3,
   "metadata": {},
   "outputs": [],
   "source": [
    "# 气泵关闭\n",
    "arm.pump_off()"
   ]
  },
  {
   "cell_type": "code",
   "execution_count": 2,
   "metadata": {},
   "outputs": [],
   "source": [
    "# 设置舵机为阻尼模式\n",
    "arm.set_damping(800)"
   ]
  },
  {
   "cell_type": "code",
   "execution_count": 3,
   "metadata": {},
   "outputs": [
    {
     "data": {
      "text/plain": [
       "[-2.1, -3.4, -52.1, 0.9]"
      ]
     },
     "execution_count": 3,
     "metadata": {},
     "output_type": "execute_result"
    }
   ],
   "source": [
    "# 获取舵机原始角度\n",
    "arm.get_servo_angles()"
   ]
  },
  {
   "cell_type": "code",
   "execution_count": 7,
   "metadata": {},
   "outputs": [
    {
     "name": "stdout",
     "output_type": "stream",
     "text": [
      "机械臂关节弧度 theta1=-0.3 theta2=-87.9 theta3=91.4 theta4=1.3(单位 °)\n"
     ]
    }
   ],
   "source": [
    "# 获取关节弧度\n",
    "thetas = arm.get_thetas()\n",
    "# 转换为角度\n",
    "theta1, theta2, theta3, theta4 = [math.degrees(theta) for theta in thetas]\n",
    "print(\"机械臂关节弧度 theta1={:.1f} theta2={:.1f} theta3={:.1f} theta4={:.1f}(单位 °)\".format(theta1, theta2, theta3, theta4))"
   ]
  },
  {
   "cell_type": "code",
   "execution_count": 8,
   "metadata": {},
   "outputs": [
    {
     "name": "stdout",
     "output_type": "stream",
     "text": [
      "末端的位置: x=14.13 y=-0.08 z=1.98(单位cm) \n",
      "俯仰角: 4.9\n"
     ]
    }
   ],
   "source": [
    "# 获取末端的位姿\n",
    "(xe,ye,ze), pitch = arm.get_tool_pose()\n",
    "print(\"末端的位置: x={:.2f} y={:.2f} z={:.2f}(单位cm) \".format(xe, ye, ze))\n",
    "print(\"俯仰角: {:.1f}\".format(math.degrees(pitch)))"
   ]
  },
  {
   "cell_type": "markdown",
   "metadata": {},
   "source": [
    " 测试逆向运动学"
   ]
  },
  {
   "cell_type": "code",
   "execution_count": 13,
   "metadata": {},
   "outputs": [
    {
     "name": "stdout",
     "output_type": "stream",
     "text": [
      "Thetas: [-0.9451758896065908, -2.3880349562760252, 2.3369568354978383, 0.2901802948835705]\n",
      "Tool Posi = [4.149963822811005, -5.7444649318675, -0.5250161732082272]\n",
      "Pitch = 0.23910217410538354\n",
      "逆向运动学的结果\n",
      "[-0.9451758896065908, -2.3880349562760257, 2.3369568354978383, 0.29018029488357094]\n"
     ]
    }
   ],
   "source": [
    "# 获取关节角度\n",
    "thetas = arm.get_thetas()\n",
    "print(\"Thetas: {}\".format(thetas))\n",
    "# 正向运动学\n",
    "tool_posi,pitch = arm.forward_kinematics(thetas)\n",
    "\n",
    "print(\"Tool Posi = {}\".format(tool_posi))\n",
    "print(\"Pitch = {}\".format(pitch))\n",
    "\n",
    "ret,thetas = arm.inverse_kinematics(tool_posi, pitch)\n",
    "\n",
    "print(\"逆向运动学的结果\")\n",
    "print(thetas)"
   ]
  },
  {
   "cell_type": "code",
   "execution_count": 56,
   "metadata": {},
   "outputs": [],
   "source": [
    "tool_posi = [5.0, 12.0, 0.0]\n",
    "pitch = 0 # math.pi/6\n",
    "interval = 0.5\n",
    "arm.move_p2p_minjerk(tool_posi, pitch, interval)"
   ]
  },
  {
   "cell_type": "code",
   "execution_count": 55,
   "metadata": {},
   "outputs": [],
   "source": [
    "tool_posi = [12.0, 5.0, 5.0]\n",
    "pitch = 0.0\n",
    "interval = 0.5\n",
    "arm.move_p2p_minjerk(tool_posi, pitch, interval)"
   ]
  },
  {
   "cell_type": "code",
   "execution_count": 54,
   "metadata": {},
   "outputs": [],
   "source": [
    "tool_posi = [8, -8, -1.0]\n",
    "pitch = 0 # math.pi/6\n",
    "interval = 0.4\n",
    "arm.move_p2p_minjerk(tool_posi, pitch, interval)"
   ]
  },
  {
   "cell_type": "markdown",
   "metadata": {},
   "source": [
    "测试Task Space下的Minimum Jerk\n",
    "> 效果其实不太好"
   ]
  },
  {
   "cell_type": "code",
   "execution_count": 26,
   "metadata": {},
   "outputs": [],
   "source": [
    "def action0():\n",
    "    tool_posi = [15.0, 0, 5.0]\n",
    "    pitch = 0 # math.pi/6\n",
    "    T = 0.45\n",
    "    arm.move_p2p_minjerk_in_tasksapce(tool_posi, pitch, T)\n",
    "    \n",
    "def action1():\n",
    "    tool_posi = [12.0, 9.0, -6.0]\n",
    "    pitch = 0 # math.pi/6\n",
    "    T = 0.80\n",
    "    arm.move_p2p_minjerk_in_tasksapce(tool_posi, pitch, T)\n",
    "\n",
    "def action2():\n",
    "    tool_posi = [12.0, -2.0, -6.0]\n",
    "    pitch = 0 # math.pi/6\n",
    "    T = 0.45\n",
    "    arm.move_p2p_minjerk_in_tasksapce(tool_posi, pitch, T)"
   ]
  },
  {
   "cell_type": "code",
   "execution_count": 34,
   "metadata": {},
   "outputs": [],
   "source": [
    "for i in range(1):\n",
    "    action0()\n",
    "    time.sleep(0.5)\n",
    "    action1()\n",
    "    time.sleep(0.5)\n",
    "    action2()\n",
    "    time.sleep(0.5)"
   ]
  },
  {
   "cell_type": "markdown",
   "metadata": {},
   "source": [
    "## 画笔模式"
   ]
  },
  {
   "cell_type": "code",
   "execution_count": 35,
   "metadata": {},
   "outputs": [
    {
     "data": {
      "text/plain": [
       "True"
      ]
     },
     "execution_count": 35,
     "metadata": {},
     "output_type": "execute_result"
    }
   ],
   "source": [
    "# 切换工具为画笔\n",
    "arm.switch_tool('pen')"
   ]
  },
  {
   "cell_type": "code",
   "execution_count": 36,
   "metadata": {},
   "outputs": [],
   "source": [
    "canvas_z = -4.0 # 画面的Z轴坐标  (4.5)\n",
    "pen_pitch = math.radians(0.0)\n",
    "pen_speed =  10 # 单位 cm/s\n",
    "\n",
    "def pen_move(x, y, z):\n",
    "    '''运动画笔'''\n",
    "    global arm\n",
    "    global pen_pitch\n",
    "    global pen_speed\n",
    "    # 估计周期\n",
    "    tool_posi, pitch = arm.get_tool_pose()\n",
    "    xs, ys, zs = tool_posi\n",
    "    d = math.sqrt((x-xs)**2 + (y-ys)**2 + (z-zs)**2)\n",
    "    arm.move_p2p_minjerk_in_tasksapce([x, y, z], pen_pitch, d / pen_speed)\n",
    "    # arm.move_line([x, y, z], pen_pitch)\n",
    "    \n",
    "def pen_up():\n",
    "    '''抬笔'''\n",
    "    global arm\n",
    "    global pen_pitch\n",
    "    tool_posi, pitch = arm.get_tool_pose()\n",
    "    tool_posi[2] = canvas_z + 3\n",
    "\n",
    "def pen_down():\n",
    "    '''落笔'''\n",
    "    global arm\n",
    "    global pen_pitch\n",
    "    tool_posi, pitch = arm.get_tool_pose()\n",
    "    tool_posi[2] = canvas_z\n",
    "    arm.move_p2p_minjerk_in_tasksapce(tool_posi, pen_pitch, 0.2)\n",
    "\n",
    "def draw_line(x0, y0, x1, y1):\n",
    "    global arm\n",
    "    global canvas_z\n",
    "    global pen_pitch\n",
    "    \n",
    "    pen_move(x0, y0, canvas_z+3)\n",
    "    time.sleep(0.1)\n",
    "    pen_move(x0, y0, canvas_z)\n",
    "    time.sleep(0.1)\n",
    "    pen_move(x1, y1, canvas_z)\n",
    "    time.sleep(0.1)\n",
    "    pen_move(x1, y1, canvas_z+3)\n",
    "    time.sleep(0.1)\n",
    "    \n",
    "def draw_cross(cx, cy, width):\n",
    "    pass\n",
    "    \n",
    "def draw_rect(cx, cy, w, h):\n",
    "    global arm\n",
    "    global canvas_z\n",
    "    global pen_pitch\n",
    "    \n",
    "    T = 0.15\n",
    "    arm.move_p2p_minjerk_in_tasksapce([cx+w/2, cy-h/2, canvas_z+1], pen_pitch, T)\n",
    "    pen_down()\n",
    "    \n",
    "    arm.move_p2p_minjerk_in_tasksapce([cx+w/2, cy-h/2, canvas_z], pen_pitch, T)\n",
    "    arm.move_p2p_minjerk_in_tasksapce([cx+w/2, cy+h/2, canvas_z], pen_pitch, T)\n",
    "    arm.move_p2p_minjerk_in_tasksapce([cx-w/2, cy+h/2, canvas_z], pen_pitch, T)\n",
    "    arm.move_p2p_minjerk_in_tasksapce([cx-w/2, cy-h/2, canvas_z], pen_pitch, T)\n",
    "    arm.move_p2p_minjerk_in_tasksapce([cx+w/2, cy-h/2, canvas_z], pen_pitch, T)\n",
    "    pen_up()\n",
    "    \n",
    "    \n",
    "\n"
   ]
  },
  {
   "cell_type": "markdown",
   "metadata": {},
   "source": [
    "测试绘制直线"
   ]
  },
  {
   "cell_type": "code",
   "execution_count": 43,
   "metadata": {},
   "outputs": [],
   "source": [
    "draw_line(21, 3, 18, -3)\n",
    "draw_line(21, -3, 18, 3)"
   ]
  },
  {
   "cell_type": "markdown",
   "metadata": {},
   "source": [
    "测试绘制网格"
   ]
  },
  {
   "cell_type": "code",
   "execution_count": 41,
   "metadata": {},
   "outputs": [],
   "source": [
    "def draw_grid():\n",
    "    # 绘制格子棋盘\n",
    "    for x in np.linspace(20, 16, 4):\n",
    "        draw_line(x, -6, x, 6)\n",
    "        \n",
    "    for y in np.linspace(6, -6, 4):\n",
    "        draw_line(20, y, 16, y)\n",
    "\n",
    "draw_grid()"
   ]
  },
  {
   "cell_type": "code",
   "execution_count": 31,
   "metadata": {},
   "outputs": [
    {
     "data": {
      "text/plain": [
       "[-1.0626835448399374,\n",
       " 0.9743790233942269,\n",
       " -1.0440285566574914,\n",
       " -0.9367035128274274]"
      ]
     },
     "execution_count": 31,
     "metadata": {},
     "output_type": "execute_result"
    }
   ],
   "source": [
    "arm.joint2servo_k"
   ]
  },
  {
   "cell_type": "code",
   "execution_count": 32,
   "metadata": {},
   "outputs": [
    {
     "data": {
      "text/plain": [
       "[-1.1000000000000003, 93.81490601354493, 45.99655783383952, 10.849716670016631]"
      ]
     },
     "execution_count": 32,
     "metadata": {},
     "output_type": "execute_result"
    }
   ],
   "source": [
    "arm.joint2servo_b"
   ]
  },
  {
   "cell_type": "markdown",
   "metadata": {},
   "source": [
    "测试绘制矩形"
   ]
  },
  {
   "cell_type": "code",
   "execution_count": 9,
   "metadata": {},
   "outputs": [],
   "source": [
    "# draw_rect(16, 0, 3, 3)\n",
    "# draw_rect(17, 3, 3, 3)\n",
    "draw_rect(19, -6, 3, 3)\n",
    "draw_rect(19, -3, 3, 3)\n",
    "draw_rect(19, 0, 3, 3)\n",
    "draw_rect(19, 3, 3, 3)\n",
    "draw_rect(19, 6, 3, 3)"
   ]
  },
  {
   "cell_type": "code",
   "execution_count": 20,
   "metadata": {},
   "outputs": [],
   "source": [
    "draw_rect(18, -6, 3, 3)\n",
    "draw_rect(18, -3, 3, 3)\n",
    "draw_rect(18, 0, 3, 3)\n",
    "draw_rect(18, 3, 3, 3)\n",
    "draw_rect(18, 6, 3, 3)"
   ]
  },
  {
   "cell_type": "code",
   "execution_count": null,
   "metadata": {},
   "outputs": [],
   "source": []
  }
 ],
 "metadata": {
  "kernelspec": {
   "display_name": "Python 3",
   "language": "python",
   "name": "python3"
  },
  "language_info": {
   "codemirror_mode": {
    "name": "ipython",
    "version": 3
   },
   "file_extension": ".py",
   "mimetype": "text/x-python",
   "name": "python",
   "nbconvert_exporter": "python",
   "pygments_lexer": "ipython3",
   "version": "3.7.8"
  }
 },
 "nbformat": 4,
 "nbformat_minor": 4
}
