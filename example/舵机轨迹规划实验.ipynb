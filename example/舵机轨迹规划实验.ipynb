{
 "cells": [
  {
   "cell_type": "markdown",
   "metadata": {},
   "source": [
    "# 舵机轨迹规划实验\n",
    "## 导入依赖"
   ]
  },
  {
   "cell_type": "code",
   "execution_count": 1,
   "metadata": {},
   "outputs": [],
   "source": [
    "# 添加路径\n",
    "import sys\n",
    "sys.path.append('../src/')\n",
    "# 导入依赖\n",
    "import time\n",
    "from fs_arm_4dof import Arm4DoF\n",
    "from config import *\n",
    "import trapezoid\n",
    "import s_curve\n",
    "import minimum_jerk\n",
    "import logging\n",
    "import math\n",
    "import numpy as np"
   ]
  },
  {
   "cell_type": "code",
   "execution_count": 28,
   "metadata": {},
   "outputs": [],
   "source": [
    "logging.basicConfig(level=logging.WARN)"
   ]
  },
  {
   "cell_type": "markdown",
   "metadata": {},
   "source": [
    "## 机械臂初始化"
   ]
  },
  {
   "cell_type": "code",
   "execution_count": 31,
   "metadata": {},
   "outputs": [],
   "source": [
    "arm = Arm4DoF('/dev/ttyUSB1')"
   ]
  },
  {
   "cell_type": "code",
   "execution_count": 32,
   "metadata": {},
   "outputs": [
    {
     "data": {
      "text/plain": [
       "[-0.0, -2.356194490192345, 1.5707963267948966, 0.7853981633974483]"
      ]
     },
     "execution_count": 32,
     "metadata": {},
     "output_type": "execute_result"
    }
   ],
   "source": [
    "arm.get_thetas()"
   ]
  },
  {
   "cell_type": "markdown",
   "metadata": {},
   "source": [
    "## 测试马上旋转到目标角度"
   ]
  },
  {
   "cell_type": "code",
   "execution_count": 44,
   "metadata": {},
   "outputs": [],
   "source": [
    "arm.set_joint({0:math.pi/4}, interval=0)"
   ]
  },
  {
   "cell_type": "code",
   "execution_count": 56,
   "metadata": {},
   "outputs": [],
   "source": [
    "arm.set_joint({0:-math.pi/2}, interval=0)"
   ]
  },
  {
   "cell_type": "code",
   "execution_count": 37,
   "metadata": {},
   "outputs": [],
   "source": [
    "arm.set_joint({JOINT4:0.60}, interval=0)\n"
   ]
  },
  {
   "cell_type": "markdown",
   "metadata": {},
   "source": [
    "## 梯形轨迹规划"
   ]
  },
  {
   "cell_type": "code",
   "execution_count": 70,
   "metadata": {},
   "outputs": [],
   "source": [
    "def test_trapezoid(joint_id, theta_e):\n",
    "    theta_s = math.degrees(arm.get_thetas()[joint_id])\n",
    "    w_max, a_max, t01, t12, t23 = trapezoid.trapezoid_plan1(theta_s, theta_e)\n",
    "    t_arr, a_arr, w_arr, theta_arr = trapezoid.trapezoid_sequence(theta_s, theta_e, t01, t12, t23, \\\n",
    "                                                    w_max=w_max, a_max=a_max)\n",
    "    theta_arr_rad = np.radians(theta_arr)\n",
    "    for theta in theta_arr_rad:\n",
    "        arm.set_joint({joint_id:theta}, interval=0)\n",
    "        time.sleep(trapezoid.DELTA_T)\n",
    "        "
   ]
  },
  {
   "cell_type": "code",
   "execution_count": 71,
   "metadata": {},
   "outputs": [],
   "source": [
    "test_trapezoid(JOINT1, -90)"
   ]
  },
  {
   "cell_type": "code",
   "execution_count": 72,
   "metadata": {},
   "outputs": [],
   "source": [
    "test_trapezoid(JOINT1, 90)"
   ]
  },
  {
   "cell_type": "markdown",
   "metadata": {},
   "source": [
    "## S-Curve"
   ]
  },
  {
   "cell_type": "code",
   "execution_count": 66,
   "metadata": {},
   "outputs": [],
   "source": [
    "def test_s_curve(joint_id, theta_e):\n",
    "    theta_s = math.degrees(arm.get_thetas()[joint_id])\n",
    "    w_s = 0\n",
    "    w_e = 0\n",
    "    J_acc = s_curve.REF_MAX_J_ACC\n",
    "    J_dec = s_curve.REF_MAX_J_DEC\n",
    "    # 时间规划\n",
    "    T1,T4,T5 = s_curve.scurve_time_plan(theta_s, theta_e, w_s, w_e, J_acc, J_dec)\n",
    "    # 求解时间序列\n",
    "    ret, t_arr, j_arr, a_arr, w_arr, theta_arr = s_curve.scurve_trajectory_seq(theta_s, theta_e, w_s, w_e, J_acc, J_dec, T1, T4, T5)\n",
    "    theta_arr_rad = np.radians(theta_arr)\n",
    "    for theta in theta_arr_rad:\n",
    "        arm.set_joint({joint_id:theta}, interval=0)\n",
    "        time.sleep(s_curve.DELTA_T)"
   ]
  },
  {
   "cell_type": "code",
   "execution_count": 86,
   "metadata": {},
   "outputs": [],
   "source": [
    "test_s_curve(JOINT1, 90)"
   ]
  },
  {
   "cell_type": "markdown",
   "metadata": {},
   "source": [
    "## Minimum Jerk"
   ]
  },
  {
   "cell_type": "code",
   "execution_count": 76,
   "metadata": {},
   "outputs": [],
   "source": [
    "def test_minimum_jerk(joint_id, theta_e, T):\n",
    "    theta_s = math.degrees(arm.get_thetas()[joint_id])\n",
    "    w_s = 0\n",
    "    w_e = 0\n",
    "    a_s = 0\n",
    "    a_e = 0\n",
    "    # 规划\n",
    "    c = minimum_jerk.minimum_jerk_plan(theta_s, theta_e, w_s, w_e, a_s, a_e, T)\n",
    "    t_arr, theta_arr = minimum_jerk.minimum_jerk_seq(T, c)\n",
    "    # theta_arr = theta_arr.reshape(-1)\n",
    "    # 执行\n",
    "    theta_arr_rad = np.radians(theta_arr)\n",
    "    for theta in theta_arr_rad:\n",
    "        arm.set_joint({joint_id:theta}, interval=0)\n",
    "        time.sleep(s_curve.DELTA_T)"
   ]
  },
  {
   "cell_type": "code",
   "execution_count": 87,
   "metadata": {},
   "outputs": [],
   "source": [
    "test_minimum_jerk(JOINT1, -90, 1.5)"
   ]
  }
 ],
 "metadata": {
  "kernelspec": {
   "display_name": "Python 3",
   "language": "python",
   "name": "python3"
  },
  "language_info": {
   "codemirror_mode": {
    "name": "ipython",
    "version": 3
   },
   "file_extension": ".py",
   "mimetype": "text/x-python",
   "name": "python",
   "nbconvert_exporter": "python",
   "pygments_lexer": "ipython3",
   "version": "3.6.9"
  }
 },
 "nbformat": 4,
 "nbformat_minor": 2
}
